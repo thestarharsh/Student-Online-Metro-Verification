{
  "nbformat": 4,
  "nbformat_minor": 0,
  "metadata": {
    "colab": {
      "provenance": []
    },
    "kernelspec": {
      "name": "python3",
      "display_name": "Python 3"
    },
    "language_info": {
      "name": "python"
    }
  },
  "cells": [
    {
      "cell_type": "code",
      "execution_count": null,
      "metadata": {
        "colab": {
          "base_uri": "https://localhost:8080/",
          "height": 73
        },
        "id": "EZL3VaUfkbDy",
        "outputId": "e5bf9dfb-41b7-40a7-a0ca-3e803a291a74"
      },
      "outputs": [
        {
          "output_type": "display_data",
          "data": {
            "text/plain": [
              "<IPython.core.display.HTML object>"
            ],
            "text/html": [
              "\n",
              "     <input type=\"file\" id=\"files-7568fa66-198c-4bee-b9f1-ed82bd56a7fe\" name=\"files[]\" multiple disabled\n",
              "        style=\"border:none\" />\n",
              "     <output id=\"result-7568fa66-198c-4bee-b9f1-ed82bd56a7fe\">\n",
              "      Upload widget is only available when the cell has been executed in the\n",
              "      current browser session. Please rerun this cell to enable.\n",
              "      </output>\n",
              "      <script>// Copyright 2017 Google LLC\n",
              "//\n",
              "// Licensed under the Apache License, Version 2.0 (the \"License\");\n",
              "// you may not use this file except in compliance with the License.\n",
              "// You may obtain a copy of the License at\n",
              "//\n",
              "//      http://www.apache.org/licenses/LICENSE-2.0\n",
              "//\n",
              "// Unless required by applicable law or agreed to in writing, software\n",
              "// distributed under the License is distributed on an \"AS IS\" BASIS,\n",
              "// WITHOUT WARRANTIES OR CONDITIONS OF ANY KIND, either express or implied.\n",
              "// See the License for the specific language governing permissions and\n",
              "// limitations under the License.\n",
              "\n",
              "/**\n",
              " * @fileoverview Helpers for google.colab Python module.\n",
              " */\n",
              "(function(scope) {\n",
              "function span(text, styleAttributes = {}) {\n",
              "  const element = document.createElement('span');\n",
              "  element.textContent = text;\n",
              "  for (const key of Object.keys(styleAttributes)) {\n",
              "    element.style[key] = styleAttributes[key];\n",
              "  }\n",
              "  return element;\n",
              "}\n",
              "\n",
              "// Max number of bytes which will be uploaded at a time.\n",
              "const MAX_PAYLOAD_SIZE = 100 * 1024;\n",
              "\n",
              "function _uploadFiles(inputId, outputId) {\n",
              "  const steps = uploadFilesStep(inputId, outputId);\n",
              "  const outputElement = document.getElementById(outputId);\n",
              "  // Cache steps on the outputElement to make it available for the next call\n",
              "  // to uploadFilesContinue from Python.\n",
              "  outputElement.steps = steps;\n",
              "\n",
              "  return _uploadFilesContinue(outputId);\n",
              "}\n",
              "\n",
              "// This is roughly an async generator (not supported in the browser yet),\n",
              "// where there are multiple asynchronous steps and the Python side is going\n",
              "// to poll for completion of each step.\n",
              "// This uses a Promise to block the python side on completion of each step,\n",
              "// then passes the result of the previous step as the input to the next step.\n",
              "function _uploadFilesContinue(outputId) {\n",
              "  const outputElement = document.getElementById(outputId);\n",
              "  const steps = outputElement.steps;\n",
              "\n",
              "  const next = steps.next(outputElement.lastPromiseValue);\n",
              "  return Promise.resolve(next.value.promise).then((value) => {\n",
              "    // Cache the last promise value to make it available to the next\n",
              "    // step of the generator.\n",
              "    outputElement.lastPromiseValue = value;\n",
              "    return next.value.response;\n",
              "  });\n",
              "}\n",
              "\n",
              "/**\n",
              " * Generator function which is called between each async step of the upload\n",
              " * process.\n",
              " * @param {string} inputId Element ID of the input file picker element.\n",
              " * @param {string} outputId Element ID of the output display.\n",
              " * @return {!Iterable<!Object>} Iterable of next steps.\n",
              " */\n",
              "function* uploadFilesStep(inputId, outputId) {\n",
              "  const inputElement = document.getElementById(inputId);\n",
              "  inputElement.disabled = false;\n",
              "\n",
              "  const outputElement = document.getElementById(outputId);\n",
              "  outputElement.innerHTML = '';\n",
              "\n",
              "  const pickedPromise = new Promise((resolve) => {\n",
              "    inputElement.addEventListener('change', (e) => {\n",
              "      resolve(e.target.files);\n",
              "    });\n",
              "  });\n",
              "\n",
              "  const cancel = document.createElement('button');\n",
              "  inputElement.parentElement.appendChild(cancel);\n",
              "  cancel.textContent = 'Cancel upload';\n",
              "  const cancelPromise = new Promise((resolve) => {\n",
              "    cancel.onclick = () => {\n",
              "      resolve(null);\n",
              "    };\n",
              "  });\n",
              "\n",
              "  // Wait for the user to pick the files.\n",
              "  const files = yield {\n",
              "    promise: Promise.race([pickedPromise, cancelPromise]),\n",
              "    response: {\n",
              "      action: 'starting',\n",
              "    }\n",
              "  };\n",
              "\n",
              "  cancel.remove();\n",
              "\n",
              "  // Disable the input element since further picks are not allowed.\n",
              "  inputElement.disabled = true;\n",
              "\n",
              "  if (!files) {\n",
              "    return {\n",
              "      response: {\n",
              "        action: 'complete',\n",
              "      }\n",
              "    };\n",
              "  }\n",
              "\n",
              "  for (const file of files) {\n",
              "    const li = document.createElement('li');\n",
              "    li.append(span(file.name, {fontWeight: 'bold'}));\n",
              "    li.append(span(\n",
              "        `(${file.type || 'n/a'}) - ${file.size} bytes, ` +\n",
              "        `last modified: ${\n",
              "            file.lastModifiedDate ? file.lastModifiedDate.toLocaleDateString() :\n",
              "                                    'n/a'} - `));\n",
              "    const percent = span('0% done');\n",
              "    li.appendChild(percent);\n",
              "\n",
              "    outputElement.appendChild(li);\n",
              "\n",
              "    const fileDataPromise = new Promise((resolve) => {\n",
              "      const reader = new FileReader();\n",
              "      reader.onload = (e) => {\n",
              "        resolve(e.target.result);\n",
              "      };\n",
              "      reader.readAsArrayBuffer(file);\n",
              "    });\n",
              "    // Wait for the data to be ready.\n",
              "    let fileData = yield {\n",
              "      promise: fileDataPromise,\n",
              "      response: {\n",
              "        action: 'continue',\n",
              "      }\n",
              "    };\n",
              "\n",
              "    // Use a chunked sending to avoid message size limits. See b/62115660.\n",
              "    let position = 0;\n",
              "    do {\n",
              "      const length = Math.min(fileData.byteLength - position, MAX_PAYLOAD_SIZE);\n",
              "      const chunk = new Uint8Array(fileData, position, length);\n",
              "      position += length;\n",
              "\n",
              "      const base64 = btoa(String.fromCharCode.apply(null, chunk));\n",
              "      yield {\n",
              "        response: {\n",
              "          action: 'append',\n",
              "          file: file.name,\n",
              "          data: base64,\n",
              "        },\n",
              "      };\n",
              "\n",
              "      let percentDone = fileData.byteLength === 0 ?\n",
              "          100 :\n",
              "          Math.round((position / fileData.byteLength) * 100);\n",
              "      percent.textContent = `${percentDone}% done`;\n",
              "\n",
              "    } while (position < fileData.byteLength);\n",
              "  }\n",
              "\n",
              "  // All done.\n",
              "  yield {\n",
              "    response: {\n",
              "      action: 'complete',\n",
              "    }\n",
              "  };\n",
              "}\n",
              "\n",
              "scope.google = scope.google || {};\n",
              "scope.google.colab = scope.google.colab || {};\n",
              "scope.google.colab._files = {\n",
              "  _uploadFiles,\n",
              "  _uploadFilesContinue,\n",
              "};\n",
              "})(self);\n",
              "</script> "
            ]
          },
          "metadata": {}
        },
        {
          "output_type": "stream",
          "name": "stdout",
          "text": [
            "Saving metro_student_data.csv to metro_student_data.csv\n"
          ]
        }
      ],
      "source": [
        "from google.colab import files\n",
        "files = files.upload()"
      ]
    },
    {
      "cell_type": "code",
      "source": [
        "import pandas as pd"
      ],
      "metadata": {
        "id": "z27H_sTGk1JR"
      },
      "execution_count": null,
      "outputs": []
    },
    {
      "cell_type": "code",
      "source": [
        "df = pd.read_csv('metro_student_data.csv')"
      ],
      "metadata": {
        "id": "OmD1JJbgk5dH"
      },
      "execution_count": null,
      "outputs": []
    },
    {
      "cell_type": "code",
      "source": [
        "print(df.head())\n",
        "print(df.isnull().sum())"
      ],
      "metadata": {
        "colab": {
          "base_uri": "https://localhost:8080/"
        },
        "id": "55eVwj-blAkV",
        "outputId": "b9a96e12-90e2-48de-8e6b-a185d68242ef"
      },
      "execution_count": null,
      "outputs": [
        {
          "output_type": "stream",
          "name": "stdout",
          "text": [
            "    College Start Date        College Email  Duration First Name Last Name\n",
            "380   IIT D 2023-06-16    hridaan65@iitd.in 1460 days     Akarsh     Kalla\n",
            "719   IIT D 2023-09-28      iramesh@iitd.in 1460 days      Kiaan    Kapoor\n",
            "167   IIT D 2023-10-05      oorja34@iitd.in 1460 days     Jayant   Rastogi\n",
            "515   IIT D 2023-09-29        kiyer@iitd.in 1460 days      Nirvi     Wason\n",
            "715   IIT D 2022-12-11  jayantbhatt@iitd.in 1460 days        Ela      Goda\n",
            "College          0\n",
            "Start Date       0\n",
            "College Email    0\n",
            "Duration         0\n",
            "First Name       0\n",
            "Last Name        0\n",
            "dtype: int64\n"
          ]
        }
      ]
    },
    {
      "cell_type": "code",
      "source": [
        "df = pd.read_csv('metro_student_data.csv')"
      ],
      "metadata": {
        "id": "KGjrO73wnRFI"
      },
      "execution_count": null,
      "outputs": []
    },
    {
      "cell_type": "code",
      "source": [
        "# Convert date columns to datetime format\n",
        "df['Start Date'] = pd.to_datetime(df['Start Date'])\n",
        "df['End Date'] = pd.to_datetime(df['End Date'])\n",
        "\n",
        "# Create a new column for the duration of the college attendance\n",
        "df['Duration'] = df['End Date'] - df['Start Date']\n",
        "\n",
        "# Extract relevant information from the 'Name' column\n",
        "df['First Name'] = df['Name'].apply(lambda x: x.split()[0])\n",
        "df['Last Name'] = df['Name'].apply(lambda x: x.split()[-1])\n",
        "\n",
        "# Rename columns for clarity\n",
        "df = df.rename(columns={'College Name': 'College', 'College Email ID': 'College Email'})\n",
        "\n",
        "# Sort the DataFrame by 'College', 'First Name', 'Last Name', and 'End Date'\n",
        "df = df.sort_values(by=['College', 'First Name', 'Last Name', 'End Date'])\n",
        "\n",
        "# Reset the index of the sorted DataFrame\n",
        "df = df.reset_index(drop=True)\n",
        "\n",
        "# Save the sorted data to a new CSV file\n",
        "df.to_csv('sorted_names.csv', index=False)"
      ],
      "metadata": {
        "id": "S5zxgH_aoPt5"
      },
      "execution_count": null,
      "outputs": []
    },
    {
      "cell_type": "code",
      "source": [
        "import matplotlib.pyplot as plt\n",
        "\n",
        "# Plot the number of students from each college\n",
        "college_counts = df['College'].value_counts()\n",
        "college_counts.plot(kind='bar', rot=45, color='skyblue', edgecolor='black')\n",
        "plt.xlabel('College')\n",
        "plt.ylabel('Number of Students')\n",
        "plt.title('Number of Students from Each College')\n",
        "plt.show()"
      ],
      "metadata": {
        "colab": {
          "base_uri": "https://localhost:8080/",
          "height": 511
        },
        "id": "GrsnFUdko0NY",
        "outputId": "88db57c0-e386-4778-b79e-edf65c6758ab"
      },
      "execution_count": null,
      "outputs": [
        {
          "output_type": "display_data",
          "data": {
            "text/plain": [
              "<Figure size 640x480 with 1 Axes>"
            ],
            "image/png": "[encoded data removed]"
          },
          "metadata": {}
        }
      ]
    },
    {
      "cell_type": "code",
      "source": [
        "from datetime import datetime\n",
        "\n",
        "# Function to check student verification\n",
        "def is_student_verified(start_date, end_date):\n",
        "    current_date = datetime.now()\n",
        "    return start_date <= current_date <= end_date\n",
        "\n",
        "# Apply the verification function to each row\n",
        "df['Verification Status'] = df.apply(lambda row: is_student_verified(row['Start Date'], row['End Date']), axis=1)\n",
        "\n",
        "# Display the DataFrame with verification status\n",
        "print(df)\n",
        "\n",
        "# Save the DataFrame with verification status to a new CSV file\n",
        "df.to_csv('verified_students.csv', index=False)"
      ],
      "metadata": {
        "colab": {
          "base_uri": "https://localhost:8080/"
        },
        "id": "-f-m3UIoplRD",
        "outputId": "f85de886-edcf-4dcf-863f-68f636c4242b"
      },
      "execution_count": null,
      "outputs": [
        {
          "output_type": "stream",
          "name": "stdout",
          "text": [
            "                Name College Start Date   End Date         College Email  \\\n",
            "0      Aaina Chauhan   IIT D 2023-03-30 2027-03-29       nakul86@iitd.in   \n",
            "1       Aarav Bansal   IIT D 2023-08-31 2027-08-30  hridaandugar@iitd.in   \n",
            "2    Abram Ramaswamy   IIT D 2023-02-28 2027-02-27      ujhaveri@iitd.in   \n",
            "3         Advik Basu   IIT D 2023-05-01 2027-04-30    mannatlata@iitd.in   \n",
            "4       Advik Bhatia   IIT D 2023-04-10 2027-04-09      eshani94@iitd.in   \n",
            "..               ...     ...        ...        ...                   ...   \n",
            "995       Zara Gupta     VIT 2023-07-06 2027-07-05        hiran37@vit.in   \n",
            "996      Zara Saxena     VIT 2023-09-16 2027-09-15       vshankar@vit.in   \n",
            "997  Zeeshan Sridhar     VIT 2023-08-24 2027-08-23       saanvi68@vit.in   \n",
            "998     Zoya Chhabra     VIT 2023-02-23 2027-02-22  sehgaldarshit@vit.in   \n",
            "999       Zoya Madan     VIT 2023-11-08 2027-11-07  bhardwajkrish@vit.in   \n",
            "\n",
            "     Duration First Name  Last Name  Verification Status  \n",
            "0   1460 days      Aaina    Chauhan                 True  \n",
            "1   1460 days      Aarav     Bansal                 True  \n",
            "2   1460 days      Abram  Ramaswamy                 True  \n",
            "3   1460 days      Advik       Basu                 True  \n",
            "4   1460 days      Advik     Bhatia                 True  \n",
            "..        ...        ...        ...                  ...  \n",
            "995 1460 days       Zara      Gupta                 True  \n",
            "996 1460 days       Zara     Saxena                 True  \n",
            "997 1460 days    Zeeshan    Sridhar                 True  \n",
            "998 1460 days       Zoya    Chhabra                 True  \n",
            "999 1460 days       Zoya      Madan                 True  \n",
            "\n",
            "[1000 rows x 9 columns]\n"
          ]
        }
      ]
    },
    {
      "cell_type": "code",
      "source": [
        "pip install qrcode[pil]"
      ],
      "metadata": {
        "colab": {
          "base_uri": "https://localhost:8080/"
        },
        "id": "sHKMF-STq9DZ",
        "outputId": "ea8dfb42-b7bb-47b8-e8d9-8602c7cc885e"
      },
      "execution_count": null,
      "outputs": [
        {
          "output_type": "stream",
          "name": "stdout",
          "text": [
            "Collecting qrcode[pil]\n",
            "  Downloading qrcode-7.4.2-py3-none-any.whl (46 kB)\n",
            "\u001b[2K     \u001b[90m━━━━━━━━━━━━━━━━━━━━━━━━━━━━━━━━━━━━━━━━\u001b[0m \u001b[32m46.2/46.2 kB\u001b[0m \u001b[31m1.2 MB/s\u001b[0m eta \u001b[36m0:00:00\u001b[0m\n",
            "\u001b[?25hRequirement already satisfied: typing-extensions in /usr/local/lib/python3.10/dist-packages (from qrcode[pil]) (4.5.0)\n",
            "Collecting pypng (from qrcode[pil])\n",
            "  Downloading pypng-0.20220715.0-py3-none-any.whl (58 kB)\n",
            "\u001b[2K     \u001b[90m━━━━━━━━━━━━━━━━━━━━━━━━━━━━━━━━━━━━━━━━\u001b[0m \u001b[32m58.1/58.1 kB\u001b[0m \u001b[31m3.5 MB/s\u001b[0m eta \u001b[36m0:00:00\u001b[0m\n",
            "\u001b[?25hRequirement already satisfied: pillow>=9.1.0 in /usr/local/lib/python3.10/dist-packages (from qrcode[pil]) (9.4.0)\n",
            "Installing collected packages: pypng, qrcode\n",
            "Successfully installed pypng-0.20220715.0 qrcode-7.4.2\n"
          ]
        }
      ]
    },
    {
      "cell_type": "code",
      "source": [
        "import os\n",
        "import qrcode\n",
        "\n",
        "# Load the DataFrame with verification status\n",
        "df = pd.read_csv('verified_students.csv')\n",
        "\n",
        "# Ensure the 'qr_codes' directory exists\n",
        "os.makedirs('qr_codes', exist_ok=True)\n",
        "\n",
        "# Function to generate QR code for each verified student\n",
        "def generate_qr_code(student_id, verification_status):\n",
        "    message = f\"Student {student_id} is {'verified' if verification_status else 'not verified'} and is eligible for 30% Metro Discount.\"\n",
        "    qr = qrcode.QRCode(\n",
        "        version=1,\n",
        "        error_correction=qrcode.constants.ERROR_CORRECT_L,\n",
        "        box_size=10,\n",
        "        border=4,\n",
        "    )\n",
        "    qr.add_data(message)\n",
        "    qr.make(fit=True)\n",
        "    img = qr.make_image(fill_color=\"black\", back_color=\"white\")\n",
        "\n",
        "    # Save the QR code image in the 'qr_codes' directory\n",
        "    img.save(f'qr_codes/student_{student_id}_qr_code.png')\n",
        "\n",
        "# Generate QR codes for verified students\n",
        "for student_id, verification_status in enumerate(df['Verification Status']):\n",
        "    generate_qr_code(student_id, verification_status)\n",
        "\n",
        "# Display the DataFrame with verification status and paths to generated QR codes\n",
        "print(df)"
      ],
      "metadata": {
        "colab": {
          "base_uri": "https://localhost:8080/"
        },
        "id": "gpth0MnWrNwH",
        "outputId": "b9bba3b8-5bf0-489d-9562-b8338cf653e0"
      },
      "execution_count": null,
      "outputs": [
        {
          "output_type": "stream",
          "name": "stdout",
          "text": [
            "                Name College  Start Date    End Date         College Email  \\\n",
            "0      Aaina Chauhan   IIT D  2023-03-30  2027-03-29       nakul86@iitd.in   \n",
            "1       Aarav Bansal   IIT D  2023-08-31  2027-08-30  hridaandugar@iitd.in   \n",
            "2    Abram Ramaswamy   IIT D  2023-02-28  2027-02-27      ujhaveri@iitd.in   \n",
            "3         Advik Basu   IIT D  2023-05-01  2027-04-30    mannatlata@iitd.in   \n",
            "4       Advik Bhatia   IIT D  2023-04-10  2027-04-09      eshani94@iitd.in   \n",
            "..               ...     ...         ...         ...                   ...   \n",
            "995       Zara Gupta     VIT  2023-07-06  2027-07-05        hiran37@vit.in   \n",
            "996      Zara Saxena     VIT  2023-09-16  2027-09-15       vshankar@vit.in   \n",
            "997  Zeeshan Sridhar     VIT  2023-08-24  2027-08-23       saanvi68@vit.in   \n",
            "998     Zoya Chhabra     VIT  2023-02-23  2027-02-22  sehgaldarshit@vit.in   \n",
            "999       Zoya Madan     VIT  2023-11-08  2027-11-07  bhardwajkrish@vit.in   \n",
            "\n",
            "      Duration First Name  Last Name  Verification Status  \n",
            "0    1460 days      Aaina    Chauhan                 True  \n",
            "1    1460 days      Aarav     Bansal                 True  \n",
            "2    1460 days      Abram  Ramaswamy                 True  \n",
            "3    1460 days      Advik       Basu                 True  \n",
            "4    1460 days      Advik     Bhatia                 True  \n",
            "..         ...        ...        ...                  ...  \n",
            "995  1460 days       Zara      Gupta                 True  \n",
            "996  1460 days       Zara     Saxena                 True  \n",
            "997  1460 days    Zeeshan    Sridhar                 True  \n",
            "998  1460 days       Zoya    Chhabra                 True  \n",
            "999  1460 days       Zoya      Madan                 True  \n",
            "\n",
            "[1000 rows x 9 columns]\n"
          ]
        }
      ]
    },
    {
      "cell_type": "code",
      "source": [
        "from zipfile import ZipFile\n",
        "\n",
        "# Save the DataFrame with verification status to 'verified_students.csv'\n",
        "df.to_csv('verified_students.csv', index=False)\n",
        "\n",
        "# Create a ZIP file containing 'verified_students.csv' and 'qr_codes' directory\n",
        "with ZipFile('download_files.zip', 'w') as zipf:\n",
        "    zipf.write('verified_students.csv')\n",
        "    for root, dirs, files in os.walk('qr_codes'):\n",
        "        for file in files:\n",
        "            zipf.write(os.path.join(root, file), arcname=os.path.join('qr_codes', file))\n",
        "\n",
        "print(\"Download files: download_files.zip\")"
      ],
      "metadata": {
        "colab": {
          "base_uri": "https://localhost:8080/"
        },
        "id": "5S29Pub2sCtL",
        "outputId": "c3b27592-c829-4a06-ca44-3dde1d18b892"
      },
      "execution_count": null,
      "outputs": [
        {
          "output_type": "stream",
          "name": "stdout",
          "text": [
            "Download files: download_files.zip\n"
          ]
        }
      ]
    },
    {
      "cell_type": "code",
      "source": [
        "# Mount Google Drive to Colab (if not already mounted)\n",
        "from google.colab import drive\n",
        "drive.mount('/content/drive')\n",
        "\n",
        "# Move the created ZIP file to Google Drive\n",
        "!mv download_files.zip '/content/drive/MyDrive/'\n",
        "\n",
        "# Provide a link to download the ZIP file\n",
        "download_link = '/content/drive/MyDrive/download_files.zip'\n",
        "print(f\"Download the ZIP file from this link: {download_link}\")"
      ],
      "metadata": {
        "colab": {
          "base_uri": "https://localhost:8080/"
        },
        "id": "JjkyYsUcsdtN",
        "outputId": "1c381a5a-1add-4552-fc48-67aa441a76f0"
      },
      "execution_count": null,
      "outputs": [
        {
          "output_type": "stream",
          "name": "stdout",
          "text": [
            "Mounted at /content/drive\n",
            "Download the ZIP file from this link: /content/drive/MyDrive/download_files.zip\n"
          ]
        }
      ]
    }
  ]
}